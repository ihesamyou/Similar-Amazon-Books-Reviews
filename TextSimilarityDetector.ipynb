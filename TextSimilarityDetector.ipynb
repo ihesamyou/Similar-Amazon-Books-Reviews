{
  "nbformat": 4,
  "nbformat_minor": 0,
  "metadata": {
    "colab": {
      "provenance": []
    },
    "kernelspec": {
      "name": "python3",
      "display_name": "Python 3"
    },
    "language_info": {
      "name": "python"
    }
  },
  "cells": [
    {
      "cell_type": "code",
      "source": [
        "import os\n",
        "\n",
        "# For installing requirements (uncomment if there was an error)\n",
        "\n",
        "# !apt-get install openjdk-11-jdk-headless -qq > /dev/null\n",
        "# !wget -q https://archive.apache.org/dist/spark/spark-3.3.2/spark-3.3.2-bin-hadoop3.tgz\n",
        "# !tar -xzf spark-3.3.2-bin-hadoop3.tgz\n",
        "# os.environ[\"JAVA_HOME\"] = \"/usr/lib/jvm/java-11-openjdk-amd64\"\n",
        "# os.environ[\"SPARK_HOME\"] = \"/content/spark-3.3.2-bin-hadoop3\""
      ],
      "metadata": {
        "id": "0NP7d4qfV_7o"
      },
      "execution_count": 1,
      "outputs": []
    },
    {
      "cell_type": "code",
      "source": [
        "import pkg_resources\n",
        "\n",
        "# Check if the necessary packages are installed\n",
        "installed_packages = {pkg.key for pkg in pkg_resources.working_set}\n",
        "\n",
        "# Install pyspark\n",
        "if 'pyspark' not in installed_packages:\n",
        "    !pip install -q pyspark\n",
        "\n",
        "# Install findspark\n",
        "if 'findspark' not in installed_packages:\n",
        "    !pip install -q findspark\n",
        "\n",
        "# Install kaggle CLI\n",
        "if 'kaggle' not in installed_packages:\n",
        "    !pip install -q kaggle"
      ],
      "metadata": {
        "id": "GLgmBqWXRssX"
      },
      "execution_count": 2,
      "outputs": []
    },
    {
      "cell_type": "code",
      "source": [
        "from google.colab import userdata\n",
        "\n",
        "# Set KAGGLE_USERNAME and KAGGLE_KEY in the Secrets section of Colab\n",
        "os.environ['KAGGLE_USERNAME'] = userdata.get('KAGGLE_USERNAME')\n",
        "os.environ['KAGGLE_KEY'] = userdata.get('KAGGLE_KEY')"
      ],
      "metadata": {
        "id": "MNmC8KaBWqrE"
      },
      "execution_count": 3,
      "outputs": []
    },
    {
      "cell_type": "code",
      "source": [
        "# Download and unzip the dataset\n",
        "if not os.path.exists('Books_rating.csv'):\n",
        "    !kaggle datasets download -d mohamedbakhet/amazon-books-reviews\n",
        "    !unzip -o amazon-books-reviews.zip\n",
        "else:\n",
        "    print(\"The file 'Books_rating.csv' already exists.\")"
      ],
      "metadata": {
        "id": "4Rr54_F6XPIe",
        "colab": {
          "base_uri": "https://localhost:8080/"
        },
        "outputId": "d72c99b8-c771-4730-f384-5858a6125ec5"
      },
      "execution_count": 4,
      "outputs": [
        {
          "output_type": "stream",
          "name": "stdout",
          "text": [
            "Dataset URL: https://www.kaggle.com/datasets/mohamedbakhet/amazon-books-reviews\n",
            "License(s): CC0-1.0\n",
            "Downloading amazon-books-reviews.zip to /content\n",
            " 98% 1.04G/1.06G [00:05<00:00, 200MB/s]\n",
            "100% 1.06G/1.06G [00:05<00:00, 202MB/s]\n",
            "Archive:  amazon-books-reviews.zip\n",
            "  inflating: Books_rating.csv        \n",
            "  inflating: books_data.csv          \n"
          ]
        }
      ]
    },
    {
      "cell_type": "code",
      "source": [
        "!nproc"
      ],
      "metadata": {
        "id": "wlXCqNtHQ3vm",
        "colab": {
          "base_uri": "https://localhost:8080/"
        },
        "outputId": "be13976a-9552-4480-972c-87182f32a781"
      },
      "execution_count": 5,
      "outputs": [
        {
          "output_type": "stream",
          "name": "stdout",
          "text": [
            "2\n"
          ]
        }
      ]
    },
    {
      "cell_type": "code",
      "source": [
        "!cat /proc/cpuinfo | grep \"model name\""
      ],
      "metadata": {
        "id": "fbNaiY9GQsFZ",
        "colab": {
          "base_uri": "https://localhost:8080/"
        },
        "outputId": "51d5f36e-c62e-4e4a-baf3-3ab8b744651f"
      },
      "execution_count": 6,
      "outputs": [
        {
          "output_type": "stream",
          "name": "stdout",
          "text": [
            "model name\t: Intel(R) Xeon(R) CPU @ 2.20GHz\n",
            "model name\t: Intel(R) Xeon(R) CPU @ 2.20GHz\n"
          ]
        }
      ]
    },
    {
      "cell_type": "code",
      "source": [
        "!cat /proc/meminfo | grep MemTotal"
      ],
      "metadata": {
        "id": "PEz1OS1oQytj",
        "colab": {
          "base_uri": "https://localhost:8080/"
        },
        "outputId": "06e16815-b4ef-43b5-ae71-0d7fafa97e49"
      },
      "execution_count": 7,
      "outputs": [
        {
          "output_type": "stream",
          "name": "stdout",
          "text": [
            "MemTotal:       13289424 kB\n"
          ]
        }
      ]
    },
    {
      "cell_type": "code",
      "source": [
        "import findspark\n",
        "\n",
        "# Initialize Spark\n",
        "findspark.init()\n",
        "\n",
        "from pyspark.sql import SparkSession\n",
        "from pyspark.ml.feature import RegexTokenizer, StopWordsRemover\n",
        "from pyspark.sql.functions import size\n",
        "from pyspark.ml.feature import HashingTF, MinHashLSH"
      ],
      "metadata": {
        "id": "N8Ziaax32n_n"
      },
      "execution_count": 8,
      "outputs": []
    },
    {
      "cell_type": "code",
      "source": [
        "class TextSimilarityDetector:\n",
        "    def __init__(self, csv_file_path, text_input_column_name, columns_to_select=[], column_names_mapping={}, sample_fraction=0.01):\n",
        "        self.spark = SparkSession.builder.master(\"local[*]\").appName(\"SimilarityDetector\").getOrCreate()\n",
        "        print(\"Spark session created successfully.\")\n",
        "        print(\"Spark Default Parallelism Configuration: \", self.spark.sparkContext.defaultParallelism)\n",
        "\n",
        "        if columns_to_select and (text_input_column_name not in columns_to_select):\n",
        "            raise ValueError(f\"The specified text input column '{text_input_column_name}' is not in the columns to select: {columns_to_select}\")\n",
        "\n",
        "        if column_names_mapping and (text_input_column_name not in column_names_mapping.keys()):\n",
        "            raise ValueError(f\"The specified text input column '{text_input_column_name}' is not in the column names mapping: {column_names_mapping}\")\n",
        "\n",
        "        if columns_to_select and column_names_mapping:\n",
        "            for col in columns_to_select:\n",
        "                if col not in column_names_mapping.keys():\n",
        "                    raise ValueError(f\"The column '{col}' in columns to select is not present in the column names mapping: {column_names_mapping}\")\n",
        "\n",
        "        self.csv_file_path = csv_file_path\n",
        "        self.column_names_mapping = column_names_mapping\n",
        "        self.text_input_column_name = self.column_names_mapping.get(text_input_column_name, text_input_column_name)\n",
        "        self.columns_to_select = columns_to_select\n",
        "        self.sample_fraction = sample_fraction\n",
        "\n",
        "        self._load_data()\n",
        "\n",
        "        if self.sample_fraction:\n",
        "            self._sample_data()\n",
        "\n",
        "    def _load_data(self):\n",
        "        self.df = self.spark.read.csv(self.csv_file_path, header=True)\n",
        "        if self.df is not None:\n",
        "            if self.columns_to_select:\n",
        "                self.df = self.df.select(*self.columns_to_select)\n",
        "            else:\n",
        "                self.df = self.df.select(\"*\")\n",
        "\n",
        "            if self.column_names_mapping:\n",
        "                for old_name, new_name in self.column_names_mapping.items():\n",
        "                    self.df = self.df.withColumnRenamed(old_name, new_name)\n",
        "\n",
        "            self.df = self.df.dropna().dropDuplicates()\n",
        "            self.df = self.df.cache()\n",
        "            print(f\"{self.df.count()} number of records loaded\")\n",
        "        else:\n",
        "            raise ValueError(\"DataFrame is empty or not loaded properly.\")\n",
        "\n",
        "    def _sample_data(self):\n",
        "        self.df_sampled = self.df.sample(withReplacement=False, fraction=self.sample_fraction, seed=42)\n",
        "        self.df_sampled.cache()\n",
        "        print(f\"Sampled {self.df_sampled.count()} records from data.\\nUsing sampled data for further processing.\")\n",
        "\n",
        "    def _tokenize(self, pattern, remove_stopwords):\n",
        "        print(\"Initiating tokenization process...\")\n",
        "        tokenizer = RegexTokenizer(inputCol=self.text_input_column_name, outputCol=\"text_words\", pattern=pattern)\n",
        "        if self.sample_fraction:\n",
        "            print(\"Using sampled data for tokenization.\")\n",
        "            self.df_with_words = tokenizer.transform(self.df_sampled)\n",
        "        else:\n",
        "            print(\"Using full data for tokenization.\")\n",
        "            self.df_with_words = tokenizer.transform(self.df)\n",
        "        self.df_with_words.cache()\n",
        "\n",
        "        if remove_stopwords:\n",
        "            self.df_tokenized = self._remove_stopwords()\n",
        "        else:\n",
        "            self.df_tokenized = self.df_with_words\n",
        "\n",
        "        self.df_tokenized = self.df_tokenized.filter(size(\"tokens\") > 0)\n",
        "        self.df_tokenized.cache()\n",
        "        print(f\"Tokenization complete. {self.df_tokenized.count()} records with non-empty tokens.\")\n",
        "        print(\"\\n--------------------------------------------------------------------------------\\n\")\n",
        "        print(\"Sample of tokenized data:\")\n",
        "        self.df_tokenized.show(5, truncate=True)\n",
        "\n",
        "    def _remove_stopwords(self):\n",
        "        remover = StopWordsRemover(inputCol=\"text_words\", outputCol=\"tokens\")\n",
        "        df_tokenized = remover.transform(self.df_with_words)\n",
        "        df_tokenized.cache()\n",
        "        return df_tokenized\n",
        "\n",
        "    def find_similar_pairs(self, record_id_column_name, pattern=\"\\\\W\", remove_stopwords=True ,num_features=10000, num_hash_tables=5, Jaccard_threshold=0.4):\n",
        "        self._tokenize(pattern=pattern, remove_stopwords=remove_stopwords)\n",
        "\n",
        "        if record_id_column_name not in self.df_tokenized.columns:\n",
        "            raise ValueError(f\"The specified record ID column '{record_id_column_name}' is not in the DataFrame columns: {self.df_tokenized.columns}\")\n",
        "\n",
        "        print(\"Initiating MinHash LSH model fitting...\")\n",
        "        hashingTF = HashingTF(inputCol=\"tokens\", outputCol=\"features\", numFeatures=num_features)\n",
        "        df_hashed = hashingTF.transform(self.df_tokenized)\n",
        "        df_hashed.cache()\n",
        "\n",
        "        mh = MinHashLSH(inputCol=\"features\", outputCol=\"hashes\", numHashTables=num_hash_tables)\n",
        "        model = mh.fit(df_hashed)\n",
        "\n",
        "        print(\"MinHash LSH model fitted successfully.\")\n",
        "\n",
        "\n",
        "        print(f\"Finding similar pairs using Jaccard distance (Jaccard distance < {Jaccard_threshold})...\")\n",
        "\n",
        "        similar_pairs = model.approxSimilarityJoin(\n",
        "            df_hashed, df_hashed, threshold=Jaccard_threshold, distCol=\"JaccardDistance\"\n",
        "        ).filter(f\"datasetA.{record_id_column_name} <> datasetB.{record_id_column_name}\")  # filter out self-joins\n",
        "\n",
        "        similar_pairs.cache()\n",
        "        print(f\"Number of similar pairs found: {similar_pairs.count()}\")\n",
        "\n",
        "        return similar_pairs"
      ],
      "metadata": {
        "id": "fYfk5AEHIRds"
      },
      "execution_count": 9,
      "outputs": []
    },
    {
      "cell_type": "code",
      "source": [
        "# Usage\n",
        "\n",
        "sample_fraction = 0.01\n",
        "\n",
        "review_similarity_detector = TextSimilarityDetector(\n",
        "    csv_file_path=\"Books_rating.csv\",\n",
        "    text_input_column_name=\"review/text\",\n",
        "    columns_to_select=[\"Id\", \"Title\", \"User_id\", \"review/score\", \"review/summary\", \"review/text\"],\n",
        "    column_names_mapping={\n",
        "        \"Id\": \"review_id\",\n",
        "        \"Title\": \"book_title\",\n",
        "        \"User_id\": \"user_id\",\n",
        "        \"review/score\": \"review_score\",\n",
        "        \"review/summary\": \"review_summary\",\n",
        "        \"review/text\": \"review_text\"\n",
        "    },\n",
        "    sample_fraction=sample_fraction\n",
        ")"
      ],
      "metadata": {
        "colab": {
          "base_uri": "https://localhost:8080/"
        },
        "id": "RLv3wzOiLtIk",
        "outputId": "faecc943-61d1-4e73-fb44-54ea6140e778"
      },
      "execution_count": 10,
      "outputs": [
        {
          "output_type": "stream",
          "name": "stdout",
          "text": [
            "Spark session created successfully.\n",
            "Spark Default Parallelism Configuration:  2\n",
            "2418791 number of records loaded\n",
            "Sampled 24359 records from data.\n",
            "Using sampled data for further processing.\n"
          ]
        }
      ]
    },
    {
      "cell_type": "code",
      "source": [
        "similar_pairs = review_similarity_detector.find_similar_pairs(\n",
        "    record_id_column_name=\"review_id\", # Make sure this column name is present in the column names of the dataset (or in column_names_mapping values if this name mapping is used)\n",
        "    Jaccard_threshold=0.4, # Jaccard distance < 0.6\n",
        "    # pattern=\"\\\\W\",  # default\n",
        "    # remove_stopwords=True,  # default\n",
        "    # num_features=10000,  # default\n",
        "    # num_hash_tables=5  # default\n",
        ")"
      ],
      "metadata": {
        "colab": {
          "base_uri": "https://localhost:8080/"
        },
        "id": "moF_Duf1SpbB",
        "outputId": "4a1908ca-07a1-4d65-b30b-bb5b965322ae"
      },
      "execution_count": 11,
      "outputs": [
        {
          "output_type": "stream",
          "name": "stdout",
          "text": [
            "Initiating tokenization process...\n",
            "Using sampled data for tokenization.\n",
            "Tokenization complete. 24353 records with non-empty tokens.\n",
            "\n",
            "--------------------------------------------------------------------------------\n",
            "\n",
            "Sample of tokenized data:\n",
            "+----------+--------------------+--------------+------------+--------------------+--------------------+--------------------+--------------------+\n",
            "| review_id|          book_title|       user_id|review_score|      review_summary|         review_text|          text_words|              tokens|\n",
            "+----------+--------------------+--------------+------------+--------------------+--------------------+--------------------+--------------------+\n",
            "|0877794685|Webster's Third N...|A24VUPNUGKF2ER|         2.0|This Review Is Fo...|The CD-Rom is ver...|[the, cd, rom, is...|[cd, rom, disappo...|\n",
            "|0684190192|         The Hustons| AJJOYSGAAL1JI|         4.0|Huston, not a cit...|Hollywood (and mu...|[hollywood, and, ...|[hollywood, much,...|\n",
            "|B000LEJ3YY|King of the Wind:...| AMX0PJKV4PPNJ|         4.0|I'm a man of mean...|\"Uh-oh. A horse b...|[uh, oh, a, horse...|[uh, oh, horse, b...|\n",
            "|B000K3M31Q|A Book on C: Prog...| A5CNJTJR5EE0V|         5.0|      Good book on C|This is an excell...|[this, is, an, ex...|[excellent, book,...|\n",
            "|1594567263|the Picture of Do...| ALHEH0NO3NAZR|         4.0|         Dorian Gray|Fantastic quotes ...|[fantastic, quote...|[fantastic, quote...|\n",
            "+----------+--------------------+--------------+------------+--------------------+--------------------+--------------------+--------------------+\n",
            "only showing top 5 rows\n",
            "\n",
            "Initiating MinHash LSH model fitting...\n",
            "MinHash LSH model fitted successfully.\n",
            "Finding similar pairs using Jaccard distance (Jaccard distance < Jaccard_threshold)...\n",
            "Number of similar pairs found: 558\n"
          ]
        }
      ]
    },
    {
      "cell_type": "code",
      "source": [
        "# General view\n",
        "similar_pairs.select(\n",
        "    \"JaccardDistance\", \"datasetA.*\", \"datasetB.*\"\n",
        ").orderBy(\"JaccardDistance\").show(10)"
      ],
      "metadata": {
        "colab": {
          "base_uri": "https://localhost:8080/"
        },
        "id": "0kG6i5PAiWHn",
        "outputId": "3f44ef9e-18ce-4223-e99b-c9b5034c91a7"
      },
      "execution_count": 47,
      "outputs": [
        {
          "output_type": "stream",
          "name": "stdout",
          "text": [
            "+---------------+----------+--------------------+--------------+------------+--------------------+--------------------+--------------------+--------------------+--------------------+--------------------+----------+--------------------+--------------+------------+--------------------+--------------------+--------------------+--------------------+--------------------+--------------------+\n",
            "|JaccardDistance| review_id|          book_title|       user_id|review_score|      review_summary|         review_text|          text_words|              tokens|            features|              hashes| review_id|          book_title|       user_id|review_score|      review_summary|         review_text|          text_words|              tokens|            features|              hashes|\n",
            "+---------------+----------+--------------------+--------------+------------+--------------------+--------------------+--------------------+--------------------+--------------------+--------------------+----------+--------------------+--------------+------------+--------------------+--------------------+--------------------+--------------------+--------------------+--------------------+\n",
            "|            0.0|B000JGTKBK|     Little Britches|A1JTG5X4VHJV27|         4.0|Building a Charaa...|\"When his New Eng...|[when, his, new, ...|[new, england, fa...|(10000,[157,524,5...|[[5.2422558E7], [...|B000PG2G9M|     Little Britches|A1JTG5X4VHJV27|         4.0|Building a Charaa...|\"When his New Eng...|[when, his, new, ...|[new, england, fa...|(10000,[157,524,5...|[[5.2422558E7], [...|\n",
            "|            0.0|B0006BV6RY|Wuthering Heights...|A2SD4MYPYSA304|         5.0|Excellent, intens...|Emily Bronte's Wu...|[emily, bronte, s...|[emily, bronte, w...|(10000,[7,35,36,1...|[[1.4905001E7], [...|0395051029|Wuthering Heights...|A2SD4MYPYSA304|         5.0|Excellent, intens...|Emily Bronte's Wu...|[emily, bronte, s...|[emily, bronte, w...|(10000,[7,35,36,1...|[[1.4905001E7], [...|\n",
            "|            0.0|B000HTC7YG|     Of Mice and Men|A3ULCSFFBPFZFC|         5.0|Greatest Book I'v...|Of Mice and Men w...|[of, mice, and, m...|[mice, men, great...|(10000,[313,393,6...|[[2.347053E7], [6...|B000BL3NZ2|       Of Mice & Men|A3ULCSFFBPFZFC|         5.0|Greatest Book I'v...|Of Mice and Men w...|[of, mice, and, m...|[mice, men, great...|(10000,[313,393,6...|[[2.347053E7], [6...|\n",
            "|            0.0|B000KW0GVG|Crime and Punishment|A3KWVOXMLUSR2A|         2.0|Kindle edition ha...|\"The Kindle editi...|[the, kindle, edi...|[kindle, edition,...|(10000,[357,1820,...|[[2.1176674E7], [...|B000JJBMFY|Democracy In Amer...|A3KWVOXMLUSR2A|         2.0|Kindle edition ha...|\"The Kindle editi...|[the, kindle, edi...|[kindle, edition,...|(10000,[357,1820,...|[[2.1176674E7], [...|\n",
            "|            0.0|8437615607|Emma (Letras Univ...|A1A7U9G3728LOU|         4.0|           My Review|I don't know what...|[i, don, t, know,...|[know, jane, aust...|(10000,[393,507,6...|[[5.2422558E7], [...|1901768619|                Emma|A1A7U9G3728LOU|         4.0|           My Review|I don't know what...|[i, don, t, know,...|[know, jane, aust...|(10000,[393,507,6...|[[5.2422558E7], [...|\n",
            "|            0.0|B0008CSB9C|   The white company| A8YQPDSJRCQYR|         4.0|Historical Adventure|For anyone whose ...|[for, anyone, who...|[anyone, whose, e...|(10000,[313,393,6...|[[1.95381507E8], ...|B0006AXQ6O|The White Company...| A8YQPDSJRCQYR|         4.0|Historical Adventure|For anyone whose ...|[for, anyone, who...|[anyone, whose, e...|(10000,[313,393,6...|[[1.95381507E8], ...|\n",
            "|            0.0|0140860096|Of Mice and Men (...| ASQJMCEXIYW51|         5.0|Oh no, another bo...|At 17 years old, ...|[at, 17, years, o...|[17, years, old, ...|(10000,[141,313,3...|[[307008.0], [6.1...|0435120956|Of Mice and Men H...| ASQJMCEXIYW51|         5.0|Oh no, another bo...|At 17 years old, ...|[at, 17, years, o...|[17, years, old, ...|(10000,[141,313,3...|[[307008.0], [6.1...|\n",
            "|            0.0|B000BL3NZ2|       Of Mice & Men|A2KFDT3ENO7N21|         5.0|This is what I ca...|The book 'Of Mice...|[the, book, of, m...|[book, mice, amp,...|(10000,[141,222,2...|[[2.347053E7], [1...|B000GYWPTE|     Of Mice and Men|A2KFDT3ENO7N21|         5.0|This is what I ca...|The book 'Of Mice...|[the, book, of, m...|[book, mice, amp,...|(10000,[141,222,2...|[[2.347053E7], [1...|\n",
            "|            0.0|B000Q65F4E|  The Scarlet Letter| AWH19LC07Q1W8|         3.0|          boring....|had to read it fo...|[had, to, read, i...|[read, class, pas...|(10000,[110,205,6...|[[2.8053493E7], [...|B000N6DGFM|The Scarlet Lette...| AWH19LC07Q1W8|         3.0|          boring....|had to read it fo...|[had, to, read, i...|[read, class, pas...|(10000,[110,205,6...|[[2.8053493E7], [...|\n",
            "|            0.0|0754074706|          Persuasion|A1E1HB163B2EDG|         5.0|How Can You Not L...|My very favorite ...|[my, very, favori...|[favorite, classi...|(10000,[157,1086,...|[[3.8068523E7], [...|B00005WLVX|          Persuasion|A1E1HB163B2EDG|         5.0|How Can You Not L...|My very favorite ...|[my, very, favori...|[favorite, classi...|(10000,[157,1086,...|[[3.8068523E7], [...|\n",
            "+---------------+----------+--------------------+--------------+------------+--------------------+--------------------+--------------------+--------------------+--------------------+--------------------+----------+--------------------+--------------+------------+--------------------+--------------------+--------------------+--------------------+--------------------+--------------------+\n",
            "only showing top 10 rows\n",
            "\n"
          ]
        }
      ]
    },
    {
      "cell_type": "code",
      "source": [
        "# Side by side comparison\n",
        "similar_pairs.select(\n",
        "    \"JaccardDistance\", \"datasetA.review_id\", \"datasetB.review_id\", \"datasetA.user_id\", \"datasetB.user_id\",\n",
        "    \"datasetA.book_title\", \"datasetB.book_title\", \"datasetA.review_score\",\n",
        "    \"datasetB.review_score\", \"datasetA.review_summary\", \"datasetB.review_summary\",\n",
        "    \"datasetA.review_text\", \"datasetB.review_text\"\n",
        ").orderBy(\"JaccardDistance\").show(10)"
      ],
      "metadata": {
        "colab": {
          "base_uri": "https://localhost:8080/"
        },
        "id": "ebIcijajmZsK",
        "outputId": "99fa6e08-0636-4aa8-c786-f4f6bdcda2c1"
      },
      "execution_count": 48,
      "outputs": [
        {
          "output_type": "stream",
          "name": "stdout",
          "text": [
            "+---------------+----------+----------+--------------+--------------+--------------------+--------------------+------------+------------+--------------------+--------------------+--------------------+--------------------+\n",
            "|JaccardDistance| review_id| review_id|       user_id|       user_id|          book_title|          book_title|review_score|review_score|      review_summary|      review_summary|         review_text|         review_text|\n",
            "+---------------+----------+----------+--------------+--------------+--------------------+--------------------+------------+------------+--------------------+--------------------+--------------------+--------------------+\n",
            "|            0.0|B000JGTKBK|B000PG2G9M|A1JTG5X4VHJV27|A1JTG5X4VHJV27|     Little Britches|     Little Britches|         4.0|         4.0|Building a Charaa...|Building a Charaa...|\"When his New Eng...|\"When his New Eng...|\n",
            "|            0.0|B0006BV6RY|0395051029|A2SD4MYPYSA304|A2SD4MYPYSA304|Wuthering Heights...|Wuthering Heights...|         5.0|         5.0|Excellent, intens...|Excellent, intens...|Emily Bronte's Wu...|Emily Bronte's Wu...|\n",
            "|            0.0|8437615607|1901768619|A1A7U9G3728LOU|A1A7U9G3728LOU|Emma (Letras Univ...|                Emma|         4.0|         4.0|           My Review|           My Review|I don't know what...|I don't know what...|\n",
            "|            0.0|B000KW0GVG|B000JJBMFY|A3KWVOXMLUSR2A|A3KWVOXMLUSR2A|Crime and Punishment|Democracy In Amer...|         2.0|         2.0|Kindle edition ha...|Kindle edition ha...|\"The Kindle editi...|\"The Kindle editi...|\n",
            "|            0.0|B000HTC7YG|B000BL3NZ2|A3ULCSFFBPFZFC|A3ULCSFFBPFZFC|     Of Mice and Men|       Of Mice & Men|         5.0|         5.0|Greatest Book I'v...|Greatest Book I'v...|Of Mice and Men w...|Of Mice and Men w...|\n",
            "|            0.0|B0008CSB9C|B0006AXQ6O| A8YQPDSJRCQYR| A8YQPDSJRCQYR|   The white company|The White Company...|         4.0|         4.0|Historical Adventure|Historical Adventure|For anyone whose ...|For anyone whose ...|\n",
            "|            0.0|0754074706|B00005WLVX|A1E1HB163B2EDG|A1E1HB163B2EDG|          Persuasion|          Persuasion|         5.0|         5.0|How Can You Not L...|How Can You Not L...|My very favorite ...|My very favorite ...|\n",
            "|            0.0|B000BL3NZ2|B000GYWPTE|A2KFDT3ENO7N21|A2KFDT3ENO7N21|       Of Mice & Men|     Of Mice and Men|         5.0|         5.0|This is what I ca...|This is what I ca...|The book 'Of Mice...|The book 'Of Mice...|\n",
            "|            0.0|B000BON33Q|B000PYIUAI|A34989LDU92LBH|A34989LDU92LBH|Around the World ...|The Autobiography...|         5.0|         5.0|Kindle freebies m...|Kindle freebies m...|I got this becaus...|I got this becaus...|\n",
            "|            0.0|0140860096|0435120956| ASQJMCEXIYW51| ASQJMCEXIYW51|Of Mice and Men (...|Of Mice and Men H...|         5.0|         5.0|Oh no, another bo...|Oh no, another bo...|At 17 years old, ...|At 17 years old, ...|\n",
            "+---------------+----------+----------+--------------+--------------+--------------------+--------------------+------------+------------+--------------------+--------------------+--------------------+--------------------+\n",
            "only showing top 10 rows\n",
            "\n"
          ]
        }
      ]
    },
    {
      "cell_type": "code",
      "source": [
        "# Possible identical reviews (JaccardDistance = 0)\n",
        "similar_pairs.select(\n",
        "    \"JaccardDistance\", \"datasetA.review_id\", \"datasetB.review_id\", \"datasetA.user_id\", \"datasetB.user_id\",\n",
        "    \"datasetA.book_title\", \"datasetB.book_title\", \"datasetA.review_score\",\n",
        "    \"datasetB.review_score\", \"datasetA.review_summary\", \"datasetB.review_summary\",\n",
        "    \"datasetA.review_text\", \"datasetB.review_text\"\n",
        ").filter(\"JaccardDistance = 0\").show(10)"
      ],
      "metadata": {
        "colab": {
          "base_uri": "https://localhost:8080/"
        },
        "id": "TLF4pgQPr081",
        "outputId": "316d0966-0278-4f84-b5ab-053f3b17d706"
      },
      "execution_count": 49,
      "outputs": [
        {
          "output_type": "stream",
          "name": "stdout",
          "text": [
            "+---------------+----------+----------+--------------+--------------+--------------------+--------------------+------------+------------+--------------------+--------------------+--------------------+--------------------+\n",
            "|JaccardDistance| review_id| review_id|       user_id|       user_id|          book_title|          book_title|review_score|review_score|      review_summary|      review_summary|         review_text|         review_text|\n",
            "+---------------+----------+----------+--------------+--------------+--------------------+--------------------+------------+------------+--------------------+--------------------+--------------------+--------------------+\n",
            "|            0.0|0451519582|0736605010|A384TL3175MAQC|A384TL3175MAQC|Wuthering Heights...|   Wuthering Heights|         5.0|         5.0|Is it a truly sor...|Is it a truly sor...|Instead of focus ...|Instead of focus ...|\n",
            "|            0.0|0435126024|1847022251|A29LEKFCAHMI6Y|A29LEKFCAHMI6Y|Jane Eyre (New Wi...|Jane Eyre (Large ...|         5.0|         5.0|Do not miss out o...|Do not miss out o...|You know all thos...|You know all thos...|\n",
            "|            0.0|B000K5Q9JQ|B0007HUAHY| AHD101501WCN1| AHD101501WCN1|   The Art of Loving|   The art of loving|         5.0|         5.0|    Responsible love|    Responsible love|I remember readin...|I remember readin...|\n",
            "|            0.0|B000864H8M|B000862QIK|A3MAN5CBRX1KEV|A3MAN5CBRX1KEV|An inquiry into t...|An inquiry into t...|         4.0|         4.0|           Economisc|      Invisible Hand|\"This book is so ...|\"This book is so ...|\n",
            "|            0.0|B000JGTKBK|B000PG2G9M|A1JTG5X4VHJV27|A1JTG5X4VHJV27|     Little Britches|     Little Britches|         4.0|         4.0|Building a Charaa...|Building a Charaa...|\"When his New Eng...|\"When his New Eng...|\n",
            "|            0.0|0671043323|B000H48A60|A3C3Q0TQ013KK5|A3C3Q0TQ013KK5|     Practical Magic|     Practical Magic|         5.0|         5.0|           The Movie|           The Movie|A bit diffenrent ...|A bit diffenrent ...|\n",
            "|            0.0|B0006COA6C|B0007HKB6Y|A3BBQVEOIA34NF|A3BBQVEOIA34NF|The annotated Jul...|Twenty thousand l...|         3.0|         3.0|             alright|             alright|i thoght thisbook...|i thoght thisbook...|\n",
            "|            0.0|0395051029|0451519582| A54DEGICQXPZ8| A54DEGICQXPZ8|Wuthering Heights...|Wuthering Heights...|         2.0|         2.0|Boring and confusing|Boring and confusing|If you don't know...|If you don't know...|\n",
            "|            0.0|0001055003|1573220876| A1XCTRYJC0EX5| A1XCTRYJC0EX5|         About a Boy|         About a Boy|         4.0|         4.0|         ABOUT A BOY|         ABOUT A BOY|&quot;About A Boy...|&quot;About A Boy...|\n",
            "|            0.0|B000MS82OQ|B000HKR9FW|A331SWKETANFZS|A2XKXQ9NSS7B98|   Mere Christianity|   Mere Christianity|         5.0|         5.0|Titles can be mis...|Titles can be mis...|By &quot;mere&quo...|By &quot;mere&quo...|\n",
            "+---------------+----------+----------+--------------+--------------+--------------------+--------------------+------------+------------+--------------------+--------------------+--------------------+--------------------+\n",
            "only showing top 10 rows\n",
            "\n"
          ]
        }
      ]
    },
    {
      "cell_type": "code",
      "source": [
        "# Possible non-identical reviews (JaccardDistance > 0.2)\n",
        "similar_pairs.select(\n",
        "    \"JaccardDistance\", \"datasetA.review_id\", \"datasetB.review_id\", \"datasetA.user_id\", \"datasetB.user_id\",\n",
        "    \"datasetA.book_title\", \"datasetB.book_title\", \"datasetA.review_score\",\n",
        "    \"datasetB.review_score\", \"datasetA.review_summary\", \"datasetB.review_summary\",\n",
        "    \"datasetA.review_text\", \"datasetB.review_text\"\n",
        ").filter(\"JaccardDistance > 0.2\").orderBy(\"JaccardDistance\").show(10)"
      ],
      "metadata": {
        "colab": {
          "base_uri": "https://localhost:8080/"
        },
        "id": "897RaaZpltVu",
        "outputId": "7e60f0d4-af01-42de-d9d5-59ecd0a9dfc3"
      },
      "execution_count": 54,
      "outputs": [
        {
          "output_type": "stream",
          "name": "stdout",
          "text": [
            "+-------------------+----------+----------+--------------+--------------+--------------------+--------------------+------------+------------+--------------------+--------------------+--------------------+--------------------+\n",
            "|    JaccardDistance| review_id| review_id|       user_id|       user_id|          book_title|          book_title|review_score|review_score|      review_summary|      review_summary|         review_text|         review_text|\n",
            "+-------------------+----------+----------+--------------+--------------+--------------------+--------------------+------------+------------+--------------------+--------------------+--------------------+--------------------+\n",
            "| 0.2142857142857143|0764566334|1864500832|A3DWXVGOE2XZIQ|A3DWXVGOE2XZIQ|Frommer's Road At...|Lonely Planet Out...|         3.0|         5.0|You're going to L...|You're going to L...|I've made &#62;20...|I've spent a year...|\n",
            "| 0.2142857142857143|1864500832|0764566334|A3DWXVGOE2XZIQ|A3DWXVGOE2XZIQ|Lonely Planet Out...|Frommer's Road At...|         5.0|         3.0|You're going to L...|You're going to L...|I've spent a year...|I've made &#62;20...|\n",
            "|               0.25|0393020495|B000HGVHKO|A11PFSB6Q2N1DK|A34UKADIWVQP6J|Blackbird Singing...|The Wonderful Wiz...|         5.0|         4.0|I LOVE YOU SIR JA...|        Wizard of Oz|GOOD BOOK...........|Good book is a ve...|\n",
            "|               0.25|B000HGVHKO|0393020495|A34UKADIWVQP6J|A11PFSB6Q2N1DK|The Wonderful Wiz...|Blackbird Singing...|         4.0|         5.0|        Wizard of Oz|I LOVE YOU SIR JA...|Good book is a ve...|GOOD BOOK...........|\n",
            "| 0.2666666666666667|0807209074|B000L4056E|A1OTGBG66P6K5Y|A1OTGBG66P6K5Y|The Two Towers: P...|The Fellowship of...|         5.0|         5.0|EXTENDED VERSION ...|BE SURE TO READ T...|5 Stars is defini...|10 stars if I cou...|\n",
            "| 0.2666666666666667|B000L4056E|0807209074|A1OTGBG66P6K5Y|A1OTGBG66P6K5Y|The Fellowship of...|The Two Towers: P...|         5.0|         5.0|BE SURE TO READ T...|EXTENDED VERSION ...|10 stars if I cou...|5 Stars is defini...|\n",
            "| 0.2676056338028169|B000O0BBV8|B0007DLN5Q| AJPCALCHF3XC7| AJPCALCHF3XC7|God Bless You, Mr...|God bless you, Mr...|         3.0|         3.0|not one of vonneg...|Not one of Vonneg...|God bless you Mr....|GOD BLESS YOU MR....|\n",
            "| 0.2676056338028169|B0007DLN5Q|B000O0BBV8| AJPCALCHF3XC7| AJPCALCHF3XC7|God bless you, Mr...|God Bless You, Mr...|         3.0|         3.0|Not one of Vonneg...|not one of vonneg...|GOD BLESS YOU MR....|God bless you Mr....|\n",
            "|0.33333333333333337|0393020495|B000MCJWZ0|A11PFSB6Q2N1DK| AZ31J70BQ9CM2|Blackbird Singing...|       Anna Karenina|         5.0|         5.0|I LOVE YOU SIR JA...|Good read...........|GOOD BOOK...........|Good read...........|\n",
            "|0.33333333333333337|0393020495|1590862899|A11PFSB6Q2N1DK| AZ31J70BQ9CM2|Blackbird Singing...|  The Scarlet Letter|         5.0|         5.0|I LOVE YOU SIR JA...|Good read...........|GOOD BOOK...........|Good read...........|\n",
            "+-------------------+----------+----------+--------------+--------------+--------------------+--------------------+------------+------------+--------------------+--------------------+--------------------+--------------------+\n",
            "only showing top 10 rows\n",
            "\n"
          ]
        }
      ]
    },
    {
      "cell_type": "code",
      "source": [
        "# By different users\n",
        "similar_pairs.select(\n",
        "    \"JaccardDistance\", \"datasetA.review_id\", \"datasetB.review_id\", \"datasetA.user_id\", \"datasetB.user_id\",\n",
        "    \"datasetA.book_title\", \"datasetB.book_title\", \"datasetA.review_score\",\n",
        "    \"datasetB.review_score\", \"datasetA.review_summary\", \"datasetB.review_summary\",\n",
        "    \"datasetA.review_text\", \"datasetB.review_text\"\n",
        ").filter(\"datasetA.user_id <> datasetB.user_id\",).orderBy(\"JaccardDistance\").show(10)"
      ],
      "metadata": {
        "colab": {
          "base_uri": "https://localhost:8080/"
        },
        "id": "BX4zXrJRlrk4",
        "outputId": "b4e3e120-f585-4c8c-c62e-cf1dcd77a182"
      },
      "execution_count": 55,
      "outputs": [
        {
          "output_type": "stream",
          "name": "stdout",
          "text": [
            "+---------------+----------+----------+--------------+--------------+--------------------+--------------------+------------+------------+--------------------+--------------------+--------------------+--------------------+\n",
            "|JaccardDistance| review_id| review_id|       user_id|       user_id|          book_title|          book_title|review_score|review_score|      review_summary|      review_summary|         review_text|         review_text|\n",
            "+---------------+----------+----------+--------------+--------------+--------------------+--------------------+------------+------------+--------------------+--------------------+--------------------+--------------------+\n",
            "|            0.0|B000MS82OQ|B000HKR9FW|A331SWKETANFZS|A2XKXQ9NSS7B98|   Mere Christianity|   Mere Christianity|         5.0|         5.0|Titles can be mis...|Titles can be mis...|By &quot;mere&quo...|By &quot;mere&quo...|\n",
            "|            0.0|1594390002|B0007J8XJ4| ADEVBXUS0RSIR|A22XJU523VPBK8|Analysis of Shaol...|The varieties of ...|    Mediator|       gamer|                 2/3|                 0/4|                 5.0|                 5.0|\n",
            "|            0.0|B0007J8XJ4|1594390002|A22XJU523VPBK8| ADEVBXUS0RSIR|The varieties of ...|Analysis of Shaol...|       gamer|    Mediator|                 0/4|                 2/3|                 5.0|                 5.0|\n",
            "|            0.0|1594390002|1879794055| ADEVBXUS0RSIR|A30Z0GG96D11EO|Analysis of Shaol...|Archie Americana ...|    Mediator|      sister|                 2/3|                 1/2|                 5.0|                 5.0|\n",
            "|            0.0|B000HKR9FW|B000MS82OQ|A2XKXQ9NSS7B98|A331SWKETANFZS|   Mere Christianity|   Mere Christianity|         5.0|         5.0|Titles can be mis...|Titles can be mis...|By &quot;mere&quo...|By &quot;mere&quo...|\n",
            "|            0.0|1879794055|B0007J8XJ4|A30Z0GG96D11EO|A22XJU523VPBK8|Archie Americana ...|The varieties of ...|      sister|       gamer|                 1/2|                 0/4|                 5.0|                 5.0|\n",
            "|            0.0|B0007J8XJ4|1879794055|A22XJU523VPBK8|A30Z0GG96D11EO|The varieties of ...|Archie Americana ...|       gamer|      sister|                 0/4|                 1/2|                 5.0|                 5.0|\n",
            "|            0.0|1879794055|1594390002|A30Z0GG96D11EO| ADEVBXUS0RSIR|Archie Americana ...|Analysis of Shaol...|      sister|    Mediator|                 1/2|                 2/3|                 5.0|                 5.0|\n",
            "|            0.0|0971835012|1594390002| A5K5DIDKAML5C| ADEVBXUS0RSIR|    Milo With a Halo|Analysis of Shaol...|   Podcaster|    Mediator|                 0/0|                 2/3|                 5.0|                 5.0|\n",
            "|            0.0|0971835012|1879794055| A5K5DIDKAML5C|A30Z0GG96D11EO|    Milo With a Halo|Archie Americana ...|   Podcaster|      sister|                 0/0|                 1/2|                 5.0|                 5.0|\n",
            "+---------------+----------+----------+--------------+--------------+--------------------+--------------------+------------+------------+--------------------+--------------------+--------------------+--------------------+\n",
            "only showing top 10 rows\n",
            "\n"
          ]
        }
      ]
    },
    {
      "cell_type": "code",
      "source": [
        "# With different book titles\n",
        "similar_pairs.select(\n",
        "    \"JaccardDistance\", \"datasetA.review_id\", \"datasetB.review_id\", \"datasetA.user_id\", \"datasetB.user_id\",\n",
        "    \"datasetA.book_title\", \"datasetB.book_title\", \"datasetA.review_score\",\n",
        "    \"datasetB.review_score\"\n",
        ").filter(\"datasetA.book_title <> datasetB.book_title\",).show(10, truncate=False)"
      ],
      "metadata": {
        "colab": {
          "base_uri": "https://localhost:8080/"
        },
        "id": "5FqTYO5tqu3n",
        "outputId": "7345f724-33d8-4112-bf29-9f63f5d760b1"
      },
      "execution_count": 57,
      "outputs": [
        {
          "output_type": "stream",
          "name": "stdout",
          "text": [
            "+---------------+----------+----------+--------------+--------------+---------------------------------------------------------------------------------------------------+------------------------------------------------------------------------------------------+------------+------------+\n",
            "|JaccardDistance|review_id |review_id |user_id       |user_id       |book_title                                                                                         |book_title                                                                                |review_score|review_score|\n",
            "+---------------+----------+----------+--------------+--------------+---------------------------------------------------------------------------------------------------+------------------------------------------------------------------------------------------+------------+------------+\n",
            "|0.0            |0451519582|0736605010|A384TL3175MAQC|A384TL3175MAQC|Wuthering Heights (Signet classics)                                                                |Wuthering Heights                                                                         |5.0         |5.0         |\n",
            "|0.0            |0435126024|1847022251|A29LEKFCAHMI6Y|A29LEKFCAHMI6Y|Jane Eyre (New Windmill)                                                                           |Jane Eyre (Large Print)                                                                   |5.0         |5.0         |\n",
            "|0.0            |B000K5Q9JQ|B0007HUAHY|AHD101501WCN1 |AHD101501WCN1 |The Art of Loving                                                                                  |The art of loving                                                                         |5.0         |5.0         |\n",
            "|0.0            |B000864H8M|B000862QIK|A3MAN5CBRX1KEV|A3MAN5CBRX1KEV|An inquiry into the nature and causes of the wealth of nations,                                    |An inquiry into the nature and causes of the wealth of nations                            |4.0         |4.0         |\n",
            "|0.0            |B0006COA6C|B0007HKB6Y|A3BBQVEOIA34NF|A3BBQVEOIA34NF|The annotated Jules Verne, Twenty thousand leagues under the sea                                   |Twenty thousand leagues under the sea                                                     |3.0         |3.0         |\n",
            "|0.0            |0395051029|0451519582|A54DEGICQXPZ8 |A54DEGICQXPZ8 |Wuthering Heights (Riverside editions)                                                             |Wuthering Heights (Signet classics)                                                       |2.0         |2.0         |\n",
            "|0.0            |B0007F7BU0|B0008CRD0K|A2SPEDQN1IPVSC|A2SPEDQN1IPVSC|The song of Hiawatha (The Kings treasuries of literature ; Sir A. T. Quiller Couch, general editor)|The song of Hiawatha                                                                      |5.0         |5.0         |\n",
            "|0.0            |B0006AMCPU|B0007JIPRE|A2M8SATOK21FZ7|A2M8SATOK21FZ7|New introductory lectures on psycho-analysis (The International psycho-analytical library, no. 24) |New introductory lectures on psycho-analysis (The International psycho-analytical library)|4.0         |4.0         |\n",
            "|0.0            |B000864H8M|B0008AGF8S|A2L2IL047GSI5U|A2L2IL047GSI5U|An inquiry into the nature and causes of the wealth of nations,                                    |An inquiry into the nature and causes of the wealth of nations                            |5.0         |5.0         |\n",
            "|0.0            |B0006CBNKI|B000JJVHZE|A23KXIT18HGX06|A23KXIT18HGX06|To kill a mockingbird                                                                              |To Kill A Mockingbird                                                                     |5.0         |5.0         |\n",
            "+---------------+----------+----------+--------------+--------------+---------------------------------------------------------------------------------------------------+------------------------------------------------------------------------------------------+------------+------------+\n",
            "only showing top 10 rows\n",
            "\n"
          ]
        }
      ]
    }
  ]
}